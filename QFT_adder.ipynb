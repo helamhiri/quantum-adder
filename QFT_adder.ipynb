{
 "cells": [
  {
   "cell_type": "code",
   "execution_count": 4,
   "id": "f518cc86-5ab4-406f-9aab-c56bfa367546",
   "metadata": {},
   "outputs": [],
   "source": [
    "from qiskit import QuantumCircuit, transpile, Aer, IBMQ, execute,QuantumRegister, ClassicalRegister\n",
    "import qiskit\n",
    "import numpy as np\n",
    "import math as m\n",
    "from qiskit.circuit.library import QFT\n",
    "from qiskit.providers.aer import QasmSimulator"
   ]
  },
  {
   "cell_type": "code",
   "execution_count": 5,
   "id": "c80b1bb5-48a2-482d-8de1-31ddbcb8e948",
   "metadata": {},
   "outputs": [],
   "source": [
    "def set_input_state(a,b):\n",
    " \n",
    "    n=round(m.log2(a+b)+1)    \n",
    " \n",
    "        \n",
    "    get_binary= lambda x: '{0:{fill}{n}b}'.format(x, fill='0',n=n)\n",
    "    \n",
    "    #create a quantum circuit\n",
    "    r_a=QuantumRegister(n,'a')\n",
    "    r_b=QuantumRegister(n,'b')\n",
    "    cr=ClassicalRegister(n,'c')\n",
    "    qc=QuantumCircuit(r_a,r_b,cr)\n",
    "    \n",
    "    a=get_binary(a)\n",
    "    b=get_binary(b)\n",
    "    \n",
    "    for i  in range(n):\n",
    "        if (a[i]=='1'):\n",
    "            qc.x(r_a[n-1-i])\n",
    "        if (b[i]=='1'):\n",
    "            qc.x(r_b[n-1-i])\n",
    "            \n",
    "    return qc, r_a , r_b , cr, n"
   ]
  },
  {
   "cell_type": "code",
   "execution_count": 6,
   "id": "e2c60f6f-9c42-41e7-99c8-64b1296e4576",
   "metadata": {},
   "outputs": [
    {
     "data": {
      "image/png": "[encoded data removed]",
      "text/plain": [
       "<Figure size 146.943x565.88 with 1 Axes>"
      ]
     },
     "execution_count": 6,
     "metadata": {},
     "output_type": "execute_result"
    }
   ],
   "source": [
    "#test function set_input_state\n",
    "qc, r_a , r_b , cr,n= set_input_state(1,5)\n",
    "qc.draw(\"mpl\")"
   ]
  },
  {
   "cell_type": "code",
   "execution_count": 8,
   "id": "63306f4d-1ba4-40ff-b458-ccb2162a90dd",
   "metadata": {},
   "outputs": [
    {
     "data": {
      "text/plain": [
       "<qiskit.circuit.instructionset.InstructionSet at 0x7f24d004e2b0>"
      ]
     },
     "execution_count": 8,
     "metadata": {},
     "output_type": "execute_result"
    }
   ],
   "source": [
    "a=1\n",
    "b=3\n",
    "qc, r_a , r_b , cr,n= set_input_state(a,b)\n",
    "qc.append(QFT(n, do_swaps=False),[i for i in range(n)])\n",
    "for i in range(n):\n",
    "    for j in range(i+1):  \n",
    "        qc.cu1(np.pi/2**(i-j),r_b[j],r_a[i])\n",
    "    \n",
    "qc.append(QFT(n, do_swaps=False).inverse(),[i for i in range(n)])\n"
   ]
  },
  {
   "cell_type": "code",
   "execution_count": 9,
   "id": "f98d397c-4eaa-4a22-aacf-a601c2bd1d1f",
   "metadata": {},
   "outputs": [
    {
     "data": {
      "image/png": "[encoded data removed]",
      "text/plain": [
       "<Figure size 809.143x445.48 with 1 Axes>"
      ]
     },
     "execution_count": 9,
     "metadata": {},
     "output_type": "execute_result"
    }
   ],
   "source": [
    "qc.draw(\"mpl\")"
   ]
  },
  {
   "cell_type": "code",
   "execution_count": 10,
   "id": "20ae7c7a-ad68-406d-bf99-8de603866563",
   "metadata": {},
   "outputs": [],
   "source": [
    "backend= Aer.get_backend(\"qasm_simulator\")\n",
    "qc.measure(r_a,cr)\n",
    "result= execute(qc,backend, shots=100).result()"
   ]
  },
  {
   "cell_type": "code",
   "execution_count": 11,
   "id": "cebd684a-893b-4f73-919b-25e9efe655d7",
   "metadata": {},
   "outputs": [
    {
     "name": "stdout",
     "output_type": "stream",
     "text": [
      "{'100': 100}\n"
     ]
    }
   ],
   "source": [
    "counts=result.get_counts(qc)\n",
    "print(counts)"
   ]
  },
  {
   "cell_type": "code",
   "execution_count": null,
   "id": "dd40762e-a9af-4d5a-a84e-36db02ab6d96",
   "metadata": {},
   "outputs": [],
   "source": []
  }
 ],
 "metadata": {
  "kernelspec": {
   "display_name": "Qiskit v0.32.1 (ipykernel)",
   "language": "python",
   "name": "python3"
  },
  "language_info": {
   "codemirror_mode": {
    "name": "ipython",
    "version": 3
   },
   "file_extension": ".py",
   "mimetype": "text/x-python",
   "name": "python",
   "nbconvert_exporter": "python",
   "pygments_lexer": "ipython3",
   "version": "3.8.10"
  },
  "widgets": {
   "application/vnd.jupyter.widget-state+json": {
    "state": {
     "05dee699aa92411c9a0e6e4cbac8cbd5": {
      "model_module": "@jupyter-widgets/controls",
      "model_module_version": "1.5.0",
      "model_name": "GridBoxModel",
      "state": {
       "children": [
        "IPY_MODEL_9e84a69487f2437a862bb648b5164746"
       ],
       "layout": "IPY_MODEL_19a7d0dac31a440b9b3e6df469bd68f2"
      }
     },
     "1446abee0ffd4a838a768241b55cdd03": {
      "model_module": "@jupyter-widgets/controls",
      "model_module_version": "1.5.0",
      "model_name": "HTMLModel",
      "state": {
       "layout": "IPY_MODEL_fc8744af80e2433eb48944f00d988bdc",
       "style": "IPY_MODEL_d9ce059f840947caa1462ad60df3b9c5",
       "value": "<p style='font-family: IBM Plex Sans, Arial, Helvetica, sans-serif; font-size: 20px; font-weight: medium;'>Circuit Properties</p>"
      }
     },
     "19a7d0dac31a440b9b3e6df469bd68f2": {
      "model_module": "@jupyter-widgets/base",
      "model_module_version": "1.2.0",
      "model_name": "LayoutModel",
      "state": {
       "grid_template_areas": "\n                                       \". . . . right \"\n                                        ",
       "grid_template_columns": "20% 20% 20% 20% 20%",
       "width": "100%"
      }
     },
     "24b32f4f0cb3498c8c3d389dcde4b701": {
      "model_module": "@jupyter-widgets/controls",
      "model_module_version": "1.5.0",
      "model_name": "ButtonStyleModel",
      "state": {}
     },
     "3db5f0b00960417291f0912cf7aa3dae": {
      "model_module": "@jupyter-widgets/base",
      "model_module_version": "1.2.0",
      "model_name": "LayoutModel",
      "state": {
       "width": "145px"
      }
     },
     "3dfb172a1368483790658e236cc9a9b1": {
      "model_module": "@jupyter-widgets/controls",
      "model_module_version": "1.5.0",
      "model_name": "HTMLModel",
      "state": {
       "layout": "IPY_MODEL_7128487670064ea7a228b61d545da5a4",
       "style": "IPY_MODEL_f2ae76376d2c4d03829ca65396d4d78d",
       "value": "<h5>Queue</h5>"
      }
     },
     "5542903417214500b4af0319c111a34e": {
      "model_module": "@jupyter-widgets/controls",
      "model_module_version": "1.5.0",
      "model_name": "DescriptionStyleModel",
      "state": {
       "description_width": ""
      }
     },
     "59e19eef3c8a4d9187f082ed4308c24f": {
      "model_module": "@jupyter-widgets/controls",
      "model_module_version": "1.5.0",
      "model_name": "HBoxModel",
      "state": {
       "children": [
        "IPY_MODEL_d0b5e46733034b439d8587929f98c1e7",
        "IPY_MODEL_7a0c8bf04c1d4f41ab0e020e3255f2d1",
        "IPY_MODEL_f6ded03098c04590ac01a673fe917936",
        "IPY_MODEL_3dfb172a1368483790658e236cc9a9b1",
        "IPY_MODEL_f12adfef7fd241a5a09a73be6151c482"
       ],
       "layout": "IPY_MODEL_7d520effd21e443b863ac04503ad079e"
      }
     },
     "680339b06bec41e1b2e2aa852921d550": {
      "model_module": "@jupyter-widgets/controls",
      "model_module_version": "1.5.0",
      "model_name": "DescriptionStyleModel",
      "state": {
       "description_width": ""
      }
     },
     "7128487670064ea7a228b61d545da5a4": {
      "model_module": "@jupyter-widgets/base",
      "model_module_version": "1.2.0",
      "model_name": "LayoutModel",
      "state": {
       "width": "70px"
      }
     },
     "7a0c8bf04c1d4f41ab0e020e3255f2d1": {
      "model_module": "@jupyter-widgets/controls",
      "model_module_version": "1.5.0",
      "model_name": "HTMLModel",
      "state": {
       "layout": "IPY_MODEL_3db5f0b00960417291f0912cf7aa3dae",
       "style": "IPY_MODEL_a5941301264647d888ff1b366fdedfad",
       "value": "<h5>Backend</h5>"
      }
     },
     "7c308d9a13da467db8396c1245ed97b7": {
      "model_module": "@jupyter-widgets/base",
      "model_module_version": "1.2.0",
      "model_name": "LayoutModel",
      "state": {
       "grid_area": "right",
       "padding": "0px 0px 0px 0px",
       "width": "70px"
      }
     },
     "7d520effd21e443b863ac04503ad079e": {
      "model_module": "@jupyter-widgets/base",
      "model_module_version": "1.2.0",
      "model_name": "LayoutModel",
      "state": {
       "margin": "0px 0px 0px 37px",
       "width": "600px"
      }
     },
     "982508ec074449d4b4ea80da4fe28e88": {
      "model_module": "@jupyter-widgets/base",
      "model_module_version": "1.2.0",
      "model_name": "LayoutModel",
      "state": {
       "width": "95px"
      }
     },
     "9e84a69487f2437a862bb648b5164746": {
      "model_module": "@jupyter-widgets/controls",
      "model_module_version": "1.5.0",
      "model_name": "ButtonModel",
      "state": {
       "button_style": "primary",
       "description": "Clear",
       "layout": "IPY_MODEL_7c308d9a13da467db8396c1245ed97b7",
       "style": "IPY_MODEL_24b32f4f0cb3498c8c3d389dcde4b701"
      }
     },
     "a5941301264647d888ff1b366fdedfad": {
      "model_module": "@jupyter-widgets/controls",
      "model_module_version": "1.5.0",
      "model_name": "DescriptionStyleModel",
      "state": {
       "description_width": ""
      }
     },
     "c9f06d14c7b549f49fabaa1c0f4b86b3": {
      "model_module": "@jupyter-widgets/controls",
      "model_module_version": "1.5.0",
      "model_name": "DescriptionStyleModel",
      "state": {
       "description_width": ""
      }
     },
     "d0b5e46733034b439d8587929f98c1e7": {
      "model_module": "@jupyter-widgets/controls",
      "model_module_version": "1.5.0",
      "model_name": "HTMLModel",
      "state": {
       "layout": "IPY_MODEL_ebd69a92aa694f178179c596b484cbdf",
       "style": "IPY_MODEL_c9f06d14c7b549f49fabaa1c0f4b86b3",
       "value": "<h5>Job ID</h5>"
      }
     },
     "d9ce059f840947caa1462ad60df3b9c5": {
      "model_module": "@jupyter-widgets/controls",
      "model_module_version": "1.5.0",
      "model_name": "DescriptionStyleModel",
      "state": {
       "description_width": ""
      }
     },
     "ebd69a92aa694f178179c596b484cbdf": {
      "model_module": "@jupyter-widgets/base",
      "model_module_version": "1.2.0",
      "model_name": "LayoutModel",
      "state": {
       "width": "190px"
      }
     },
     "f12adfef7fd241a5a09a73be6151c482": {
      "model_module": "@jupyter-widgets/controls",
      "model_module_version": "1.5.0",
      "model_name": "HTMLModel",
      "state": {
       "layout": "IPY_MODEL_fff153e6a2d74ec9a89094ce479ece5d",
       "style": "IPY_MODEL_5542903417214500b4af0319c111a34e",
       "value": "<h5>Message</h5>"
      }
     },
     "f2ae76376d2c4d03829ca65396d4d78d": {
      "model_module": "@jupyter-widgets/controls",
      "model_module_version": "1.5.0",
      "model_name": "DescriptionStyleModel",
      "state": {
       "description_width": ""
      }
     },
     "f6ded03098c04590ac01a673fe917936": {
      "model_module": "@jupyter-widgets/controls",
      "model_module_version": "1.5.0",
      "model_name": "HTMLModel",
      "state": {
       "layout": "IPY_MODEL_982508ec074449d4b4ea80da4fe28e88",
       "style": "IPY_MODEL_680339b06bec41e1b2e2aa852921d550",
       "value": "<h5>Status</h5>"
      }
     },
     "fc8744af80e2433eb48944f00d988bdc": {
      "model_module": "@jupyter-widgets/base",
      "model_module_version": "1.2.0",
      "model_name": "LayoutModel",
      "state": {
       "margin": "0px 0px 10px 0px"
      }
     },
     "fff153e6a2d74ec9a89094ce479ece5d": {
      "model_module": "@jupyter-widgets/base",
      "model_module_version": "1.2.0",
      "model_name": "LayoutModel",
      "state": {}
     }
    },
    "version_major": 2,
    "version_minor": 0
   }
  }
 },
 "nbformat": 4,
 "nbformat_minor": 5
}
