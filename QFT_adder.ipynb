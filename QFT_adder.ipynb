{
 "cells": [
  {
   "cell_type": "code",
   "execution_count": 23,
   "id": "6fe14222-de51-477c-a65c-234dc6047373",
   "metadata": {},
   "outputs": [
    {
     "name": "stderr",
     "output_type": "stream",
     "text": [
      "ibmqfactory.load_account:WARNING:2021-12-02 15:36:20,396: Credentials are already in use. The existing account in the session will be replaced.\n"
     ]
    }
   ],
   "source": [
    "import numpy as np\n",
    "\n",
    "# Importing standard Qiskit libraries\n",
    "from qiskit import QuantumCircuit, transpile, Aer, IBMQ, execute,QuantumRegister, ClassicalRegister\n",
    "from qiskit.tools.jupyter import *\n",
    "from qiskit.visualization import *\n",
    "from ibm_quantum_widgets import *\n",
    "from qiskit.providers.aer import QasmSimulator\n",
    "from qiskit.providers.ibmq import least_busy\n",
    "from qiskit.circuit.library import QFT\n",
    "# Loading your IBM Quantum account(s)\n",
    "provider = IBMQ.load_account()"
   ]
  },
  {
   "cell_type": "code",
   "execution_count": 24,
   "id": "e98ad7cc-ce72-4af8-88e5-cdf5653c81f8",
   "metadata": {},
   "outputs": [],
   "source": [
    "def set_input_state(a,b):\n",
    "    get_binary= lambda x: '{0:{fill}3b}'.format(x, fill='0')\n",
    "    \n",
    "    #create a quantum circuit\n",
    "    r_a=QuantumRegister(3,'a')\n",
    "    r_b=QuantumRegister(3,'b')\n",
    "    cr=ClassicalRegister(3,'c')\n",
    "    qc=QuantumCircuit(r_a,r_b,cr)\n",
    "    \n",
    "    a=get_binary(a)\n",
    "    b=get_binary(b)\n",
    "    \n",
    "    for i  in range(3):\n",
    "        if (a[i]=='1'):\n",
    "            qc.x(r_a[2-i])\n",
    "        if (b[i]=='1'):\n",
    "            qc.x(r_b[2-i])\n",
    "            \n",
    "    return qc, r_a , r_b , cr"
   ]
  },
  {
   "cell_type": "code",
   "execution_count": 25,
   "id": "8f776214-7e19-4a93-beb3-d61881fc56dc",
   "metadata": {},
   "outputs": [],
   "source": [
    "def controlled_rotations(qc,reg_a,reg_b,n,to_gate=True):\n",
    "    for i in range(0,n+1):\n",
    "        qc.cu1(np.pi/(2**i),reg_b[n-i],reg_a[n])"
   ]
  },
  {
   "cell_type": "code",
   "execution_count": 26,
   "id": "20a012fd-f1ff-4b88-98a0-be410896e73e",
   "metadata": {},
   "outputs": [
    {
     "data": {
      "text/plain": [
       "<qiskit.circuit.instructionset.InstructionSet at 0x7ff2cb963f10>"
      ]
     },
     "execution_count": 26,
     "metadata": {},
     "output_type": "execute_result"
    }
   ],
   "source": [
    "a=1\n",
    "b=3\n",
    "qc, r_a , r_b , cr= set_input_state(a,b)\n",
    "qc.append(QFT(3, do_swaps=False),[2,1,0])\n",
    "for i in range(0,3):\n",
    "    controlled_rotations(qc,r_a,r_b,2-i)\n",
    "    \n",
    "qc.append(QFT(3, do_swaps=False).inverse(),[2,1,0])\n",
    "qc.measure(r_a,cr)"
   ]
  },
  {
   "cell_type": "code",
   "execution_count": 27,
   "id": "834948c9-6196-48bf-8096-722b6a827b15",
   "metadata": {},
   "outputs": [
    {
     "data": {
      "image/png": "[encoded data removed]",
      "text/plain": [
       "<Figure size 989.743x445.48 with 1 Axes>"
      ]
     },
     "execution_count": 27,
     "metadata": {},
     "output_type": "execute_result"
    }
   ],
   "source": [
    "qc.draw(\"mpl\")\n"
   ]
  },
  {
   "cell_type": "code",
   "execution_count": 28,
   "id": "c412f93d-1e61-493c-b7a5-0fcd50ca4f8b",
   "metadata": {},
   "outputs": [],
   "source": [
    "backend=Aer.get_backend('qasm_simulator')\n",
    "result= execute(qc,backend, shots=100).result()"
   ]
  },
  {
   "cell_type": "code",
   "execution_count": 29,
   "id": "c34feb50-1009-4a78-aa74-ecb190513a41",
   "metadata": {},
   "outputs": [
    {
     "name": "stdout",
     "output_type": "stream",
     "text": [
      "{'111': 77, '010': 4, '000': 7, '110': 12}\n"
     ]
    }
   ],
   "source": [
    "counts=result.get_counts(qc)\n",
    "print(counts)"
   ]
  },
  {
   "cell_type": "code",
   "execution_count": 32,
   "id": "16e5d17f-eb1c-42bd-bc80-5afef2643dc3",
   "metadata": {},
   "outputs": [
    {
     "data": {
      "text/plain": [
       "'100'"
      ]
     },
     "execution_count": 32,
     "metadata": {},
     "output_type": "execute_result"
    }
   ],
   "source": [
    "\"{0:b}\".format(4)"
   ]
  },
  {
   "cell_type": "code",
   "execution_count": 31,
   "id": "3aa4e1c1-4b42-4161-bf7e-5fd448a10397",
   "metadata": {},
   "outputs": [
    {
     "data": {
      "image/png": "[encoded data removed]",
      "text/plain": [
       "<Figure size 116.697x264.88 with 1 Axes>"
      ]
     },
     "execution_count": 31,
     "metadata": {},
     "output_type": "execute_result"
    }
   ],
   "source": [
    "qc=QuantumCircuit(4)\n",
    "qc.draw()"
   ]
  },
  {
   "cell_type": "code",
   "execution_count": null,
   "id": "e1d79ab9-b0b2-4a99-9477-50d378803029",
   "metadata": {},
   "outputs": [],
   "source": []
  }
 ],
 "metadata": {
  "kernelspec": {
   "display_name": "Qiskit v0.32.1 (ipykernel)",
   "language": "python",
   "name": "python3"
  },
  "language_info": {
   "codemirror_mode": {
    "name": "ipython",
    "version": 3
   },
   "file_extension": ".py",
   "mimetype": "text/x-python",
   "name": "python",
   "nbconvert_exporter": "python",
   "pygments_lexer": "ipython3",
   "version": "3.8.10"
  },
  "widgets": {
   "application/vnd.jupyter.widget-state+json": {
    "state": {
     "1c5885c29e564796a957802bb3111d1e": {
      "model_module": "@jupyter-widgets/controls",
      "model_module_version": "1.5.0",
      "model_name": "HTMLModel",
      "state": {
       "layout": "IPY_MODEL_e75f56cb20a04867b5fdea244919fa7c",
       "style": "IPY_MODEL_a62a6a7ca963475db383f4ae7926bb64",
       "value": "<h5>Backend</h5>"
      }
     },
     "1d5ceb66fc724a40841a9023fe584aae": {
      "model_module": "@jupyter-widgets/controls",
      "model_module_version": "1.5.0",
      "model_name": "HTMLModel",
      "state": {
       "layout": "IPY_MODEL_cecca4f023954c338caf8a20817910ce",
       "style": "IPY_MODEL_89699e441664429caa8deede69243dae",
       "value": "<h5>Message</h5>"
      }
     },
     "2b62f33735324016b40cb937a4412f78": {
      "model_module": "@jupyter-widgets/controls",
      "model_module_version": "1.5.0",
      "model_name": "ButtonModel",
      "state": {
       "button_style": "primary",
       "description": "Clear",
       "layout": "IPY_MODEL_9a50c7adb4a442b1b466fe1829b08e83",
       "style": "IPY_MODEL_e18929fad0294d409d0e6f1a25c00c27"
      }
     },
     "2bec414f892746c98ec4a557d31a2410": {
      "model_module": "@jupyter-widgets/controls",
      "model_module_version": "1.5.0",
      "model_name": "HTMLModel",
      "state": {
       "layout": "IPY_MODEL_74bb0bcba950474a8d3ebc30af238cac",
       "style": "IPY_MODEL_50f6ee6022354bf4817a1a7d431b367d",
       "value": "<p style='font-family: IBM Plex Sans, Arial, Helvetica, sans-serif; font-size: 20px; font-weight: medium;'>Circuit Properties</p>"
      }
     },
     "2d1107180d0148fbaacbc631acf626fd": {
      "model_module": "@jupyter-widgets/controls",
      "model_module_version": "1.5.0",
      "model_name": "DescriptionStyleModel",
      "state": {
       "description_width": ""
      }
     },
     "30e1ace966484a6595c1d56e7b38346f": {
      "model_module": "@jupyter-widgets/base",
      "model_module_version": "1.2.0",
      "model_name": "LayoutModel",
      "state": {
       "width": "190px"
      }
     },
     "37e953418b1d40119de11ec605c3a6aa": {
      "model_module": "@jupyter-widgets/base",
      "model_module_version": "1.2.0",
      "model_name": "LayoutModel",
      "state": {
       "width": "95px"
      }
     },
     "3f1f6bf79b2f418392ec53904428025f": {
      "model_module": "@jupyter-widgets/controls",
      "model_module_version": "1.5.0",
      "model_name": "HTMLModel",
      "state": {
       "layout": "IPY_MODEL_37e953418b1d40119de11ec605c3a6aa",
       "style": "IPY_MODEL_2d1107180d0148fbaacbc631acf626fd",
       "value": "<h5>Status</h5>"
      }
     },
     "483e03507e554ebd910986291cfb26be": {
      "model_module": "@jupyter-widgets/base",
      "model_module_version": "1.2.0",
      "model_name": "LayoutModel",
      "state": {
       "grid_template_areas": "\n                                       \". . . . right \"\n                                        ",
       "grid_template_columns": "20% 20% 20% 20% 20%",
       "width": "100%"
      }
     },
     "4dbff6802b0f4128956048414fddd59a": {
      "model_module": "@jupyter-widgets/controls",
      "model_module_version": "1.5.0",
      "model_name": "DescriptionStyleModel",
      "state": {
       "description_width": ""
      }
     },
     "50f6ee6022354bf4817a1a7d431b367d": {
      "model_module": "@jupyter-widgets/controls",
      "model_module_version": "1.5.0",
      "model_name": "DescriptionStyleModel",
      "state": {
       "description_width": ""
      }
     },
     "6abb6f3b634343bb83b1026bf977ef93": {
      "model_module": "@jupyter-widgets/base",
      "model_module_version": "1.2.0",
      "model_name": "LayoutModel",
      "state": {
       "width": "70px"
      }
     },
     "6eae0d814d79497b80c44edcd032c517": {
      "model_module": "@jupyter-widgets/controls",
      "model_module_version": "1.5.0",
      "model_name": "HTMLModel",
      "state": {
       "layout": "IPY_MODEL_6abb6f3b634343bb83b1026bf977ef93",
       "style": "IPY_MODEL_4dbff6802b0f4128956048414fddd59a",
       "value": "<h5>Queue</h5>"
      }
     },
     "6ef80f902c9b4f84a7bf61e5952cc32a": {
      "model_module": "@jupyter-widgets/base",
      "model_module_version": "1.2.0",
      "model_name": "LayoutModel",
      "state": {
       "margin": "0px 0px 0px 37px",
       "width": "600px"
      }
     },
     "7490357299c34966add38e864d2d5dbd": {
      "model_module": "@jupyter-widgets/controls",
      "model_module_version": "1.5.0",
      "model_name": "GridBoxModel",
      "state": {
       "children": [
        "IPY_MODEL_2b62f33735324016b40cb937a4412f78"
       ],
       "layout": "IPY_MODEL_483e03507e554ebd910986291cfb26be"
      }
     },
     "74bb0bcba950474a8d3ebc30af238cac": {
      "model_module": "@jupyter-widgets/base",
      "model_module_version": "1.2.0",
      "model_name": "LayoutModel",
      "state": {
       "margin": "0px 0px 10px 0px"
      }
     },
     "89699e441664429caa8deede69243dae": {
      "model_module": "@jupyter-widgets/controls",
      "model_module_version": "1.5.0",
      "model_name": "DescriptionStyleModel",
      "state": {
       "description_width": ""
      }
     },
     "964148a190ae4112a1d1a09056237b05": {
      "model_module": "@jupyter-widgets/controls",
      "model_module_version": "1.5.0",
      "model_name": "DescriptionStyleModel",
      "state": {
       "description_width": ""
      }
     },
     "9a50c7adb4a442b1b466fe1829b08e83": {
      "model_module": "@jupyter-widgets/base",
      "model_module_version": "1.2.0",
      "model_name": "LayoutModel",
      "state": {
       "grid_area": "right",
       "padding": "0px 0px 0px 0px",
       "width": "70px"
      }
     },
     "a62a6a7ca963475db383f4ae7926bb64": {
      "model_module": "@jupyter-widgets/controls",
      "model_module_version": "1.5.0",
      "model_name": "DescriptionStyleModel",
      "state": {
       "description_width": ""
      }
     },
     "cecca4f023954c338caf8a20817910ce": {
      "model_module": "@jupyter-widgets/base",
      "model_module_version": "1.2.0",
      "model_name": "LayoutModel",
      "state": {}
     },
     "dd2b7d26fe58420bb3895fac66d5165f": {
      "model_module": "@jupyter-widgets/controls",
      "model_module_version": "1.5.0",
      "model_name": "HBoxModel",
      "state": {
       "children": [
        "IPY_MODEL_f64a576731e74e63bed871120c5db6c9",
        "IPY_MODEL_1c5885c29e564796a957802bb3111d1e",
        "IPY_MODEL_3f1f6bf79b2f418392ec53904428025f",
        "IPY_MODEL_6eae0d814d79497b80c44edcd032c517",
        "IPY_MODEL_1d5ceb66fc724a40841a9023fe584aae"
       ],
       "layout": "IPY_MODEL_6ef80f902c9b4f84a7bf61e5952cc32a"
      }
     },
     "e18929fad0294d409d0e6f1a25c00c27": {
      "model_module": "@jupyter-widgets/controls",
      "model_module_version": "1.5.0",
      "model_name": "ButtonStyleModel",
      "state": {}
     },
     "e75f56cb20a04867b5fdea244919fa7c": {
      "model_module": "@jupyter-widgets/base",
      "model_module_version": "1.2.0",
      "model_name": "LayoutModel",
      "state": {
       "width": "145px"
      }
     },
     "f64a576731e74e63bed871120c5db6c9": {
      "model_module": "@jupyter-widgets/controls",
      "model_module_version": "1.5.0",
      "model_name": "HTMLModel",
      "state": {
       "layout": "IPY_MODEL_30e1ace966484a6595c1d56e7b38346f",
       "style": "IPY_MODEL_964148a190ae4112a1d1a09056237b05",
       "value": "<h5>Job ID</h5>"
      }
     }
    },
    "version_major": 2,
    "version_minor": 0
   }
  }
 },
 "nbformat": 4,
 "nbformat_minor": 5
}
